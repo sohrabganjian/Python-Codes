{
 "cells": [
  {
   "cell_type": "code",
   "execution_count": null,
   "metadata": {},
   "outputs": [],
   "source": [
    "'''\n",
    "Author: Sohrab\n",
    "git: https://github.com/sohrabganjian\n",
    "requirements: filecmp\n",
    "\n",
    "For more information and options visit the following link:\n",
    "https://docs.python.org/2/library/filecmp.html\n",
    "'''"
   ]
  },
  {
   "cell_type": "markdown",
   "metadata": {},
   "source": [
    "# Comparing the files two folders\n",
    "Say you have two folders with similar contents; however, you are not sure if they exactly contain the same files. To compare the two, one can take advatnage of 'filecmp' library."
   ]
  },
  {
   "cell_type": "code",
   "execution_count": null,
   "metadata": {},
   "outputs": [],
   "source": [
    "import filecmp\n",
    "\n",
    "address_file1 = 'copy the address of the first folder here'\n",
    "address_file2 = 'copy the address of the second folder here'\n",
    "\n",
    "print('Files that are in address_file1 but not address_file2: \\n \\n', filecmp.dircmp(address_file1, address_file2).left_only,\n",
    "      '\\n')\n",
    "\n",
    "print('.' * 50, '\\n')\n",
    "\n",
    "print('Files that are in address_file2 but not address_file1: \\n \\n', filecmp.dircmp(address_file1, address_file2).right_only,\n",
    "      '\\n')"
   ]
  }
 ],
 "metadata": {
  "kernelspec": {
   "display_name": "Python 3",
   "language": "python",
   "name": "python3"
  },
  "language_info": {
   "codemirror_mode": {
    "name": "ipython",
    "version": 3
   },
   "file_extension": ".py",
   "mimetype": "text/x-python",
   "name": "python",
   "nbconvert_exporter": "python",
   "pygments_lexer": "ipython3",
   "version": "3.6.5"
  }
 },
 "nbformat": 4,
 "nbformat_minor": 2
}
