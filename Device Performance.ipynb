{
 "cells": [
  {
   "cell_type": "code",
   "execution_count": null,
   "metadata": {},
   "outputs": [],
   "source": [
    "'''\n",
    "Author: Sohrab\n",
    "git: https://github.com/sohrabganjian\n",
    "requirements: SymPy, time\n",
    "\n",
    "This code is a way for measruing the performance of your device. \n",
    "Basically, it checks if a number is prime or not up to 10,000,000. You can change that of course \n",
    "by changing the range in the for-loop statement. The time it takes to execute the code varies from \n",
    "device to device and it depends on a lot of factors, such as RAM and microprocessors.\n",
    "For regular laptops this time can take between ~24 seconds up to 50 seconds for older devices. \n",
    "For my device, it takes around 35 seconds; not bad and not great. \n",
    "Feel free to run the code and let me know how long it takes on your computer. ;)\n",
    "\n",
    "Please note, I came up with with this code myself and it has no theoretical significance. \n",
    "It's a quick way to get a sense how good the perforamce of your computer is.\n",
    "Enjoy!\n",
    "'''"
   ]
  },
  {
   "cell_type": "markdown",
   "metadata": {},
   "source": [
    "#### If SymPy package need to be installed, run the following block of code. "
   ]
  },
  {
   "cell_type": "code",
   "execution_count": null,
   "metadata": {
    "scrolled": true
   },
   "outputs": [],
   "source": [
    "!pip install SymPy"
   ]
  },
  {
   "cell_type": "code",
   "execution_count": 1,
   "metadata": {},
   "outputs": [],
   "source": [
    "import sympy as s\n",
    "import time"
   ]
  },
  {
   "cell_type": "code",
   "execution_count": 2,
   "metadata": {},
   "outputs": [
    {
     "name": "stdout",
     "output_type": "stream",
     "text": [
      "34.97390604019165\n"
     ]
    }
   ],
   "source": [
    "t0 = time.time()\n",
    "for i in range(10**7):\n",
    "    s.isprime(i)\n",
    "t1 = time.time();\n",
    "print(t1-t0);"
   ]
  }
 ],
 "metadata": {
  "kernelspec": {
   "display_name": "Python 3",
   "language": "python",
   "name": "python3"
  },
  "language_info": {
   "codemirror_mode": {
    "name": "ipython",
    "version": 3
   },
   "file_extension": ".py",
   "mimetype": "text/x-python",
   "name": "python",
   "nbconvert_exporter": "python",
   "pygments_lexer": "ipython3",
   "version": "3.7.4"
  }
 },
 "nbformat": 4,
 "nbformat_minor": 2
}
