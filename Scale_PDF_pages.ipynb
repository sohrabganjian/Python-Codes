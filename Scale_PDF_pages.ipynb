{
 "cells": [
  {
   "cell_type": "markdown",
   "metadata": {},
   "source": [
    "Author: Sohrab\n",
    "\n",
    "git: https://github.com/sohrabganjian\n",
    "\n",
    "requirements: pypdf\n",
    "\n",
    "The following is the code for merging\n",
    "scaling pages of a given pdf to letter size (612 × 792 points)\n",
    "\n",
    "https://en.wikipedia.org/wiki/Point_(typography)\n",
    "\n",
    "Convert point to cm: https://www.unitconverters.net/length/point-to-centimeter.htm\n",
    "\n",
    "Sizes of paper, expressed in points:\n",
    "https://www.prepressure.com/library/paper-size"
   ]
  },
  {
   "cell_type": "code",
   "execution_count": null,
   "metadata": {},
   "outputs": [],
   "source": [
    "import pypdf\n",
    "from pypdf import PdfReader, PdfWriter\n",
    "\n",
    "# Name the input PDF\n",
    "pdf = \"input.pdf\"\n",
    "\n",
    "# Name the output PDF\n",
    "output_pdf = \"output scaled.pdf\"\n",
    "\n",
    "# Open the input PDF file\n",
    "with open(pdf, 'rb') as file:\n",
    "    readpdf = PdfReader(file)\n",
    "    totalpages = len(readpdf.pages)\n",
    "\n",
    "pdf = PdfReader(pdf)\n",
    "\n",
    "# Create a single output PDF writer\n",
    "output_writer = PdfWriter()\n",
    "\n",
    "for i in range(totalpages):\n",
    "    page = pdf.pages[i]\n",
    "    page_width = page.mediabox.width\n",
    "    page_height = page.mediabox.height\n",
    "    scale_factor = min(792 / page_height, 612 / page_width) # change 792 and 612 based on paper size\n",
    "    page.scale_by(scale_factor)\n",
    "    output_writer.add_page(page)\n",
    "\n",
    "\n",
    "with open(output_pdf, \"wb+\") as f:\n",
    "    output_writer.write(f)"
   ]
  },
  {
   "cell_type": "code",
   "execution_count": null,
   "metadata": {},
   "outputs": [],
   "source": []
  }
 ],
 "metadata": {
  "@webio": {
   "lastCommId": null,
   "lastKernelId": null
  },
  "kernelspec": {
   "display_name": "Python 3",
   "language": "python",
   "name": "python3"
  },
  "language_info": {
   "codemirror_mode": {
    "name": "ipython",
    "version": 3
   },
   "file_extension": ".py",
   "mimetype": "text/x-python",
   "name": "python",
   "nbconvert_exporter": "python",
   "pygments_lexer": "ipython3",
   "version": "3.8.5"
  }
 },
 "nbformat": 4,
 "nbformat_minor": 4
}
