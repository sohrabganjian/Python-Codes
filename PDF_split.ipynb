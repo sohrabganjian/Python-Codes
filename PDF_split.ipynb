{
 "cells": [
  {
   "cell_type": "code",
   "execution_count": null,
   "metadata": {},
   "outputs": [],
   "source": [
    "'''\n",
    "Author: Sohrab\n",
    "git: https://github.com/sohrabganjian\n",
    "requirements: PyPDF2\n",
    "\n",
    "The following is to split a particular\n",
    "page from PDF\n",
    "'''\n",
    "\n",
    "from PyPDF2 import PdfFileReader, PdfFileWriter\n",
    "\n",
    "pdf_file = open('document.pdf','rb')\n",
    "pdf_reader = PdfFileReader(pdf_file)\n",
    "pdf_writer = PdfFileWriter()\n",
    "\n",
    "# n is the page number you wish to be seperated\n",
    "# it is being subtracted by 1 since in Python 0 corresponds to the first page\n",
    "page = n - 1\n",
    "\n",
    "pdf_writer.addPage(pdf_reader.getPage(page))\n",
    "\n",
    "\n",
    "split_file = open('output_name.pdf','wb')\n",
    "pdf_writer.write(split_file)\n",
    "split_file.close()\n",
    "pdf_file.close()"
   ]
  }
 ],
 "metadata": {
  "kernelspec": {
   "display_name": "Python 3",
   "language": "python",
   "name": "python3"
  },
  "language_info": {
   "codemirror_mode": {
    "name": "ipython",
    "version": 3
   },
   "file_extension": ".py",
   "mimetype": "text/x-python",
   "name": "python",
   "nbconvert_exporter": "python",
   "pygments_lexer": "ipython3",
   "version": "3.6.5"
  }
 },
 "nbformat": 4,
 "nbformat_minor": 2
}
