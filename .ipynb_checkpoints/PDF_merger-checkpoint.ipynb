{
 "cells": [
  {
   "cell_type": "code",
   "execution_count": null,
   "metadata": {},
   "outputs": [],
   "source": [
    "'''\n",
    "Author: Sohrab\n",
    "git: https://github.com/sohrabganjian\n",
    "requirements: PyPDF2\n",
    "\n",
    "The following is the code for merging\n",
    "two pdf documents\n",
    "'''\n",
    "\n",
    "from PyPDF2 import PdfFileMerger\n",
    "\n",
    "# write the name of the files you want to merge, must end with .pdf\n",
    "pdfs = [\"document1.pdf\",\"document2.pdf\"] \n",
    "\n",
    "merger = PdfFileMerger(strict = False) # strict = False would ignore some \n",
    "                                       # issues that may arise\n",
    "\n",
    "for pdf in pdfs:\n",
    "    merger.append(pdf)\n",
    "\n",
    "# name the output\n",
    "merger.write(\"name_it_whatever_you_want.pdf\")"
   ]
  }
 ],
 "metadata": {
  "kernelspec": {
   "display_name": "Python 3",
   "language": "python",
   "name": "python3"
  },
  "language_info": {
   "codemirror_mode": {
    "name": "ipython",
    "version": 3
   },
   "file_extension": ".py",
   "mimetype": "text/x-python",
   "name": "python",
   "nbconvert_exporter": "python",
   "pygments_lexer": "ipython3",
   "version": "3.6.5"
  }
 },
 "nbformat": 4,
 "nbformat_minor": 2
}
