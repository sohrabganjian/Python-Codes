{
 "cells": [
  {
   "cell_type": "code",
   "execution_count": null,
   "metadata": {},
   "outputs": [],
   "source": [
    "'''\n",
    "Author: Sohrab\n",
    "git: https://github.com/sohrabganjian\n",
    "requirements: PyPDF2\n",
    "\n",
    "This code merges two pdfs at a specified page.\n",
    "\n",
    "Why you may want to use this?\n",
    "\n",
    "Suppose you have two pdfs, called \"file1.pdf\" and \"file2.pdf\", and suppose \n",
    "you would like to merge \"file1.pdf\" and \"file2.pdf\". However, suppose \n",
    "for some reason you want \"file2.pdf\" to be merged at a specified page\n",
    "that you desire, say the on page 3. The following code allows one \n",
    "to achieve this. If more than one pdf is to be merged, the same code\n",
    "with some adjustments would work as well. \n",
    "\n",
    "If you have better ways of doing this, feel free to make changes and \n",
    "let me know.\n",
    "'''\n",
    "\n",
    "from PyPDF2 import PdfFileReader, PdfFileMerger\n",
    "\n",
    "pdfs = ['file1.pdf', 'file2.pdf']\n",
    "\n",
    "# getting the total page numbers of file1\n",
    "file = open(pdfs[0], 'rb')\n",
    "readpdf = PdfFileReader(file)\n",
    "totalpages = readpdf.numPages \n",
    "\n",
    "merger = PdfFileMerger(strict = False)\n",
    "\n",
    "# merge at page n\n",
    "n = 5 # change this to your desired page number where you want file2 to be appended inside file1\n",
    "\n",
    "merger.append(pdfs[0], pages=(0, n))\n",
    "merger.append(pdfs[1])\n",
    "merger.append(pdfs[0], pages=(n, totalpages))\n",
    "\n",
    "merger.write(\"result.pdf\")\n",
    "merger.close()"
   ]
  }
 ],
 "metadata": {
  "kernelspec": {
   "display_name": "Python 3",
   "language": "python",
   "name": "python3"
  },
  "language_info": {
   "codemirror_mode": {
    "name": "ipython",
    "version": 3
   },
   "file_extension": ".py",
   "mimetype": "text/x-python",
   "name": "python",
   "nbconvert_exporter": "python",
   "pygments_lexer": "ipython3",
   "version": "3.8.5"
  }
 },
 "nbformat": 4,
 "nbformat_minor": 4
}
