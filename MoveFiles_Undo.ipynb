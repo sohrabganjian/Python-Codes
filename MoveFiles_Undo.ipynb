{
 "cells": [
  {
   "cell_type": "code",
   "execution_count": null,
   "metadata": {},
   "outputs": [],
   "source": [
    "'''\n",
    "Author: Sohrab\n",
    "git: https://github.com/sohrabganjian\n",
    "requirements: os, datetime, time, shutil\n",
    "variable: source directory, destination directory, flag words, \n",
    "condition on oldness of files (for instance 10 days old to be moved - see the code below for more details)\n",
    "'''"
   ]
  },
  {
   "cell_type": "markdown",
   "metadata": {},
   "source": [
    "Suppose under a parent directory you have many folders and in each one of them you have many files. And suppose you follow a naming convention. Let's say the parent directory contains all of your pictures and many of your pictures contain the word <b>'image'</b> but not all. On top of that, suppose, you are only intersted in pictures you imported for more than a specific number of day, for instace more than 10 days. This code finds all of the files that satisfy those conditions and move them all into a one destination file. \n",
    "\n",
    "While moving those files, three text files are also generated: \n",
    "<ul style=\"list-style-type:disc;\">\n",
    "  <li>one with file names only as in 'image1'</li>\n",
    "  <li>one with the full directory name as in 'C:\\source\\picture\\image1'</li>\n",
    "  <li>another one with combination of both, so file name in one line and full directory path on another line</li>\n",
    "</ul>\n",
    "\n",
    "Now after you move all these files, you may make some changes to them, as whatever the case might be. Once you are done, you can move all of those files back to the original directory they were coming from given that their names were not changed. This is where those generated text files are being used. \n",
    "\n",
    "For the sake of making the code more robust, if two file names are the same under two different directories, a digit will be added to the end of the duplicates. So for instance, one of the instaces of <b>'image1'</b> under <b>'Vacation'</b> folder and <b>'image1'</b> under <b>'School'</b> folder will be renamed to <b>'image1(1)'</b>. If this renaming does not happen, it would overwrite the previous files resulting in loss of information. \n",
    "\n",
    "Of course, there are many ways this code can be changed to fit your purposes. You can remove the condition on number of days as you wish. You can add safe words so not every file with the word <b>'image'</b> would be moved. For example, you may wish that pictures with word <b>'2020'</b> would not move. So you want, for instance, <b>'image_2019'</b> to move but not <b>'image_2020'</b>. You can add a line of code to consider those cases. Feel free to change the code as you may wish to fit your needs. \n",
    "\n",
    "In short, the main benefit of this code is that it moves files from a certain parent direcoty and <b>return</b> them to their original file. The shutil library in Python does not have un-do feature and this code provides just that."
   ]
  },
  {
   "cell_type": "code",
   "execution_count": null,
   "metadata": {},
   "outputs": [],
   "source": [
    "import os\n",
    "import datetime\n",
    "import time\n",
    "import shutil"
   ]
  },
  {
   "cell_type": "markdown",
   "metadata": {},
   "source": [
    "# Moving Files From Source to Destination"
   ]
  },
  {
   "cell_type": "code",
   "execution_count": null,
   "metadata": {},
   "outputs": [],
   "source": [
    "source = r\"C:\\source\"  #source directory goes here \n",
    "dest = r\"C:\\destination\"  #destination directory goes here"
   ]
  },
  {
   "cell_type": "code",
   "execution_count": null,
   "metadata": {},
   "outputs": [],
   "source": [
    "fileName_List = [];\n",
    "fullName_List = [];\n",
    "\n",
    "index = 0;\n",
    "\n",
    "# creating text files\n",
    "\n",
    "filepath = os.path.join(dest, r\"fileName.txt\")\n",
    "full_filepath = os.path.join(dest, r\"fileName_fullPath.txt\")\n",
    "full_filepathOnly = os.path.join(dest, r\"only_full_path.txt\")\n",
    "\n",
    "# \"a+\" will append to the text file. if you'd like to overwrite the text files, consider\n",
    "# using \"w+\" instead. Please refer to appropriate documentations for more information. \n",
    "\n",
    "f = open(filepath, \"a+\")\n",
    "g = open(full_filepath, \"a+\")\n",
    "k = open(full_filepathOnly,\"a+\")\n",
    "\n",
    "i = 1\n",
    "for folderName, subfolders, filenames in os.walk(source):\n",
    "    print('The current folder is ' + folderName)\n",
    "    \n",
    "    for filename in filenames:\n",
    "        fileName_List.append(filename)\n",
    "        fullName_List.append(os.path.join(folderName, filename))\n",
    "        \n",
    "        # getting the time that file was craeted\n",
    "        TimeFileCreated = os.path.getmtime(os.path.join(folderName, filename)) \n",
    "        \n",
    "        # getting current time\n",
    "        CurrentTime = time.time() \n",
    "        \n",
    "        # days since the creation of the file\n",
    "        DaysFileCraeted = int((CurrentTime - TimeFileCreated) // 86400) \n",
    "        \n",
    "        # flag words\n",
    "        flag = ['imgage']\n",
    "        \n",
    "        if DaysFileCraeted > 10 and any(word in filename.casefold() for word in flag):\n",
    "            if fileName_List.count(filename) == 1:\n",
    "                f.write(filename+'\\n')\n",
    "                g.write(filename+'\\n\\n')\n",
    "                g.write('Full Path is ' + os.path.join(folderName, filename) + ('\\n\\n'))\n",
    "                k.write(os.path.join(folderName, filename) + '\\n')\n",
    "                shutil.move(os.path.join(folderName, filename), os.path.join(dest, filename))\n",
    "                print('File inside is {0}: {1} is {2} days old.'.format(folderName, filename, str(DaysFileCraeted)))\n",
    "            else:\n",
    "                index = (filename.rfind('.'))\n",
    "                # print(index)\n",
    "                # print(filename[0:index])\n",
    "                # print(filename[index:])\n",
    "                NewFilename = (\n",
    "                filename[0:index] + '(' + str(i) + ')' + filename[index:]\n",
    "                )\n",
    "                os.rename(os.path.join(folderName, filename), os.path.join(folderName, NewFilename))\n",
    "                f.write(NewFilename+'\\n')\n",
    "                g.write(NewFilename+'\\n\\n')\n",
    "                g.write('Full path is ' + os.path.join(folderName, NewFilename) + '\\n\\n')\n",
    "                k.write(os.path.join(folderName, NewFilename), os.path.join(dest, NewFilename))\n",
    "                shutil.move(os.path.join(folderName, NewFilename), os.path.join(dest, NewFilename))\n",
    "                print('File inside is {0}: {1} is {2} days old.'.format(folderName, NewFilename, str(DaysFileCraeted)))\n",
    "                i = i + 1\n",
    "            \n",
    "    print('')\n",
    "f.close()\n",
    "g.close()\n",
    "k.close()\n",
    "            "
   ]
  },
  {
   "cell_type": "code",
   "execution_count": null,
   "metadata": {},
   "outputs": [],
   "source": [
    "# for debugging purposes run this\n",
    "fileName_List"
   ]
  },
  {
   "cell_type": "markdown",
   "metadata": {},
   "source": [
    "# Moving the Remaining File Back"
   ]
  },
  {
   "cell_type": "code",
   "execution_count": null,
   "metadata": {},
   "outputs": [],
   "source": [
    "# for debugging purposes run this\n",
    "stuff_dest = os.listdir(dest)"
   ]
  },
  {
   "cell_type": "code",
   "execution_count": null,
   "metadata": {},
   "outputs": [],
   "source": [
    "# for debugging purposes run this\n",
    "stuff_dest"
   ]
  },
  {
   "cell_type": "code",
   "execution_count": null,
   "metadata": {},
   "outputs": [],
   "source": [
    "fullName_List = []\n",
    "with open(os.path.join(dest,r'only_full_path.txt'), 'r') as f:\n",
    "    fullName_List = [line.strip() for line in f]"
   ]
  },
  {
   "cell_type": "code",
   "execution_count": null,
   "metadata": {},
   "outputs": [],
   "source": [
    "for files in stuff_dest:\n",
    "    for items in fullName_List:\n",
    "        if files in items and (not os.path.exists(items)):\n",
    "            index = (items.rfind('\\\\'))\n",
    "            shutil.move(os.path.join(dest, files), items[0:index])"
   ]
  }
 ],
 "metadata": {
  "kernelspec": {
   "display_name": "Python 3",
   "language": "python",
   "name": "python3"
  },
  "language_info": {
   "codemirror_mode": {
    "name": "ipython",
    "version": 3
   },
   "file_extension": ".py",
   "mimetype": "text/x-python",
   "name": "python",
   "nbconvert_exporter": "python",
   "pygments_lexer": "ipython3",
   "version": "3.7.4"
  }
 },
 "nbformat": 4,
 "nbformat_minor": 2
}
