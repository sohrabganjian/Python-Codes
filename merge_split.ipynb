{
 "cells": [
  {
   "cell_type": "code",
   "execution_count": 1,
   "metadata": {},
   "outputs": [],
   "source": [
    "'''\n",
    "Author: Sohrab\n",
    "git: https://github.com/sohrabganjian\n",
    "requirements: PyPDF2\n",
    "\n",
    "This code removes specified pages from PDF \n",
    "and lets you merge other PDFs in specified pages\n",
    "\n",
    "Why you may want to use this?\n",
    "\n",
    "Say you have a document that needs to be filled in specifc pages\n",
    "(for instace you may have to sign the document), and you have to\n",
    "print the to-be-filled-in-pages, scan them and now you have to \n",
    "merge them back at the same pages. This will just do that for you.\n",
    "Enjoy!\n",
    "\n",
    "\n",
    "'''\n",
    "from PyPDF2 import PdfFileWriter, PdfFileReader, PdfFileMerger\n",
    "infile = PdfFileReader('remove_pages_from_this_PDF.pdf', 'rb')\n",
    "output = PdfFileWriter()\n",
    "\n",
    "pages_to_delete_minus_one = [m, n] # in this list enter the pages \n",
    "                                   # you would like to be deleted - 1\n",
    "                                   # so for instance if pages 4 and 7\n",
    "                                   # want to be deleted enter 3 and 6\n",
    "                                   # pages_to_delete_minus_one = [3, 6]\n",
    "\n",
    "for i in range(infile.getNumPages()):\n",
    "    if i not in pages_to_delete:\n",
    "        p = infile.getPage(i)\n",
    "        output.addPage(p)\n",
    "\n",
    "with open('newfile.pdf', 'wb') as f:\n",
    "   output.write(f)\n",
    "\n",
    "pdfs = [('newfile.pdf', 0), \n",
    "        ('sample1.pdf', k), #sample1.pdf will be added after page k\n",
    "        ('sample2.pdf', p)] #sample2.pdf will be added after page p\n",
    "\n",
    "    \n",
    "merger = PdfFileMerger(strict = False)\n",
    " \n",
    "for fname, mergepoint in pdfs:\n",
    "    merger.merge(mergepoint, fname)\n",
    " \n",
    "merger.write(\"result.pdf\")\n",
    "merger.close()\n",
    "\n"
   ]
  },
  {
   "cell_type": "markdown",
   "metadata": {},
   "source": [
    "#### You may wish to delete newfile.pdf at this point, which can be done by the following command in Windows"
   ]
  },
  {
   "cell_type": "code",
   "execution_count": 2,
   "metadata": {},
   "outputs": [],
   "source": [
    "!del newfile.pdf"
   ]
  }
 ],
 "metadata": {
  "kernelspec": {
   "display_name": "Python 3",
   "language": "python",
   "name": "python3"
  },
  "language_info": {
   "codemirror_mode": {
    "name": "ipython",
    "version": 3
   },
   "file_extension": ".py",
   "mimetype": "text/x-python",
   "name": "python",
   "nbconvert_exporter": "python",
   "pygments_lexer": "ipython3",
   "version": "3.6.5"
  }
 },
 "nbformat": 4,
 "nbformat_minor": 2
}
