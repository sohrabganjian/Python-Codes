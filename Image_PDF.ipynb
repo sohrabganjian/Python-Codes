{
 "cells": [
  {
   "cell_type": "markdown",
   "metadata": {},
   "source": [
    "Author: Sohrab\n",
    "<br>Git: https://github.com/sohrabganjian\n",
    "<br> Requirements: img2pdf, PIL\n",
    "<br> Variables: image directory, PDF (output) directory"
   ]
  },
  {
   "cell_type": "markdown",
   "metadata": {},
   "source": [
    "Suppose you have an image file in <b>jpg</b> and you wish to make it a <b>PDF</b> file. This code does just that for you. You need to specify the image directory that end with <b>.jpg</b> as well as the output that ends with <b>.PDF</b>. I also included the workaround for the case when the image is transparent which usually resutls in an error.\n",
    "\n",
    "Enjoy! 😉"
   ]
  },
  {
   "cell_type": "markdown",
   "metadata": {},
   "source": [
    "### Run this block if you have not installed img2pdf before."
   ]
  },
  {
   "cell_type": "code",
   "execution_count": null,
   "metadata": {},
   "outputs": [],
   "source": [
    "!pip install img2pdf"
   ]
  },
  {
   "cell_type": "code",
   "execution_count": null,
   "metadata": {},
   "outputs": [],
   "source": [
    "import img2pdf\n",
    "\n",
    "image = r\"image_path.JPG\" # image path goes here\n",
    "PDF = r\"output.pdf\" # PDF output path goes here \n",
    "\n",
    "with open(PDF, \"wb\") as f:\n",
    "    f.write(img2pdf.convert(image))"
   ]
  },
  {
   "cell_type": "markdown",
   "metadata": {},
   "source": [
    "### Sometimes it might be possible that you will encounter an <code>AlphaChannelError</code>."
   ]
  },
  {
   "cell_type": "code",
   "execution_count": 1,
   "metadata": {},
   "outputs": [
    {
     "name": "stderr",
     "output_type": "stream",
     "text": [
      "WARNING:root:Image contains transparency which cannot be retained in PDF.\n",
      "WARNING:root:img2pdf will not perform a lossy operation.\n",
      "WARNING:root:You can remove the alpha channel using imagemagick:\n",
      "WARNING:root:  $ convert input.png -background white -alpha remove -alpha off output.png\n"
     ]
    },
    {
     "ename": "AlphaChannelError",
     "evalue": "Refusing to work on images with alpha channel",
     "output_type": "error",
     "traceback": [
      "\u001b[1;31m---------------------------------------------------------------------------\u001b[0m",
      "\u001b[1;31mAlphaChannelError\u001b[0m                         Traceback (most recent call last)",
      "\u001b[1;32m<ipython-input-1-d95b60a1a21f>\u001b[0m in \u001b[0;36m<module>\u001b[1;34m\u001b[0m\n\u001b[0;32m      5\u001b[0m \u001b[1;33m\u001b[0m\u001b[0m\n\u001b[0;32m      6\u001b[0m \u001b[1;32mwith\u001b[0m \u001b[0mopen\u001b[0m\u001b[1;33m(\u001b[0m\u001b[0mPDF\u001b[0m\u001b[1;33m,\u001b[0m \u001b[1;34m\"wb\"\u001b[0m\u001b[1;33m)\u001b[0m \u001b[1;32mas\u001b[0m \u001b[0mf\u001b[0m\u001b[1;33m:\u001b[0m\u001b[1;33m\u001b[0m\u001b[1;33m\u001b[0m\u001b[0m\n\u001b[1;32m----> 7\u001b[1;33m     \u001b[0mf\u001b[0m\u001b[1;33m.\u001b[0m\u001b[0mwrite\u001b[0m\u001b[1;33m(\u001b[0m\u001b[0mimg2pdf\u001b[0m\u001b[1;33m.\u001b[0m\u001b[0mconvert\u001b[0m\u001b[1;33m(\u001b[0m\u001b[0mimage\u001b[0m\u001b[1;33m)\u001b[0m\u001b[1;33m)\u001b[0m\u001b[1;33m\u001b[0m\u001b[1;33m\u001b[0m\u001b[0m\n\u001b[0m",
      "\u001b[1;32m~\\Anaconda3\\lib\\site-packages\\img2pdf.py\u001b[0m in \u001b[0;36mconvert\u001b[1;34m(*images, **kwargs)\u001b[0m\n\u001b[0;32m   1890\u001b[0m             \u001b[0mdepth\u001b[0m\u001b[1;33m,\u001b[0m\u001b[1;33m\u001b[0m\u001b[1;33m\u001b[0m\u001b[0m\n\u001b[0;32m   1891\u001b[0m             \u001b[0mrotation\u001b[0m\u001b[1;33m,\u001b[0m\u001b[1;33m\u001b[0m\u001b[1;33m\u001b[0m\u001b[0m\n\u001b[1;32m-> 1892\u001b[1;33m         ) in read_images(rawdata, kwargs[\"colorspace\"], kwargs[\"first_frame_only\"]):\n\u001b[0m\u001b[0;32m   1893\u001b[0m             pagewidth, pageheight, imgwidthpdf, imgheightpdf = kwargs[\"layout_fun\"](\n\u001b[0;32m   1894\u001b[0m                 \u001b[0mimgwidthpx\u001b[0m\u001b[1;33m,\u001b[0m \u001b[0mimgheightpx\u001b[0m\u001b[1;33m,\u001b[0m \u001b[0mndpi\u001b[0m\u001b[1;33m\u001b[0m\u001b[1;33m\u001b[0m\u001b[0m\n",
      "\u001b[1;32m~\\Anaconda3\\lib\\site-packages\\img2pdf.py\u001b[0m in \u001b[0;36mread_images\u001b[1;34m(rawdata, colorspace, first_frame_only)\u001b[0m\n\u001b[0;32m   1276\u001b[0m     \u001b[1;32mif\u001b[0m \u001b[0mimgformat\u001b[0m \u001b[1;33m==\u001b[0m \u001b[0mImageFormat\u001b[0m\u001b[1;33m.\u001b[0m\u001b[0mPNG\u001b[0m \u001b[1;32mand\u001b[0m \u001b[0mrawdata\u001b[0m\u001b[1;33m[\u001b[0m\u001b[1;36m28\u001b[0m\u001b[1;33m]\u001b[0m \u001b[1;33m==\u001b[0m \u001b[1;36m0\u001b[0m\u001b[1;33m:\u001b[0m\u001b[1;33m\u001b[0m\u001b[1;33m\u001b[0m\u001b[0m\n\u001b[0;32m   1277\u001b[0m         color, ndpi, imgwidthpx, imgheightpx, rotation = get_imgmetadata(\n\u001b[1;32m-> 1278\u001b[1;33m             \u001b[0mimgdata\u001b[0m\u001b[1;33m,\u001b[0m \u001b[0mimgformat\u001b[0m\u001b[1;33m,\u001b[0m \u001b[0mdefault_dpi\u001b[0m\u001b[1;33m,\u001b[0m \u001b[0mcolorspace\u001b[0m\u001b[1;33m,\u001b[0m \u001b[0mrawdata\u001b[0m\u001b[1;33m\u001b[0m\u001b[1;33m\u001b[0m\u001b[0m\n\u001b[0m\u001b[0;32m   1279\u001b[0m         )\n\u001b[0;32m   1280\u001b[0m         \u001b[0mpngidat\u001b[0m\u001b[1;33m,\u001b[0m \u001b[0mpalette\u001b[0m \u001b[1;33m=\u001b[0m \u001b[0mparse_png\u001b[0m\u001b[1;33m(\u001b[0m\u001b[0mrawdata\u001b[0m\u001b[1;33m)\u001b[0m\u001b[1;33m\u001b[0m\u001b[1;33m\u001b[0m\u001b[0m\n",
      "\u001b[1;32m~\\Anaconda3\\lib\\site-packages\\img2pdf.py\u001b[0m in \u001b[0;36mget_imgmetadata\u001b[1;34m(imgdata, imgformat, default_dpi, colorspace, rawdata)\u001b[0m\n\u001b[0;32m   1044\u001b[0m             \u001b[1;34m\"remove -alpha off output.png\"\u001b[0m\u001b[1;33m\u001b[0m\u001b[1;33m\u001b[0m\u001b[0m\n\u001b[0;32m   1045\u001b[0m         )\n\u001b[1;32m-> 1046\u001b[1;33m         \u001b[1;32mraise\u001b[0m \u001b[0mAlphaChannelError\u001b[0m\u001b[1;33m(\u001b[0m\u001b[1;34m\"Refusing to work on images with alpha channel\"\u001b[0m\u001b[1;33m)\u001b[0m\u001b[1;33m\u001b[0m\u001b[1;33m\u001b[0m\u001b[0m\n\u001b[0m\u001b[0;32m   1047\u001b[0m \u001b[1;33m\u001b[0m\u001b[0m\n\u001b[0;32m   1048\u001b[0m     \u001b[1;31m# Since commit 07a96209597c5e8dfe785c757d7051ce67a980fb or release 4.1.0\u001b[0m\u001b[1;33m\u001b[0m\u001b[1;33m\u001b[0m\u001b[1;33m\u001b[0m\u001b[0m\n",
      "\u001b[1;31mAlphaChannelError\u001b[0m: Refusing to work on images with alpha channel"
     ]
    }
   ],
   "source": [
    "import os, img2pdf\n",
    "\n",
    "image = r\"alphaError.jpg\"\n",
    "PDF = r\"output.pdf\" # PDF output path goes here \n",
    "\n",
    "with open(PDF, \"wb\") as f:\n",
    "    f.write(img2pdf.convert(image))"
   ]
  },
  {
   "cell_type": "markdown",
   "metadata": {},
   "source": [
    "### This usually happens if the image is transparent or the background is white. To overcome this error, you can run the following block of code."
   ]
  },
  {
   "cell_type": "code",
   "execution_count": null,
   "metadata": {},
   "outputs": [],
   "source": [
    "from PIL import Image\n",
    "\n",
    "image =  r\"alphaError.jpg\" # image path that causes the error goes here\n",
    "PDF =  r\"output.pdf\" # PDF output path goes here \n",
    "\n",
    "rgba = Image.open(image)\n",
    "rgb = Image.new('RGB', rgba.size, (255, 255, 255))  # white background\n",
    "rgb.paste(rgba, mask=rgba.split()[3])               # paste using alpha channel as mask\n",
    "rgb.save(PDF, 'PDF', resoultion=100.0)"
   ]
  }
 ],
 "metadata": {
  "kernelspec": {
   "display_name": "Python 3",
   "language": "python",
   "name": "python3"
  },
  "language_info": {
   "codemirror_mode": {
    "name": "ipython",
    "version": 3
   },
   "file_extension": ".py",
   "mimetype": "text/x-python",
   "name": "python",
   "nbconvert_exporter": "python",
   "pygments_lexer": "ipython3",
   "version": "3.7.4"
  }
 },
 "nbformat": 4,
 "nbformat_minor": 2
}
